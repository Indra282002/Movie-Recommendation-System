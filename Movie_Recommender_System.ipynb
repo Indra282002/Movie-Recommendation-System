{
  "nbformat": 4,
  "nbformat_minor": 0,
  "metadata": {
    "colab": {
      "provenance": [],
      "collapsed_sections": [
        "awPjK5lgjB59",
        "CVk1uPfevj4g",
        "TjZZ9id1fvCI"
      ],
      "authorship_tag": "ABX9TyOZ9Coj8fgc17CxdXtCC/CQ",
      "include_colab_link": true
    },
    "kernelspec": {
      "name": "python3",
      "display_name": "Python 3"
    },
    "language_info": {
      "name": "python"
    }
  },
  "cells": [
    {
      "cell_type": "markdown",
      "metadata": {
        "id": "view-in-github",
        "colab_type": "text"
      },
      "source": [
        "<a href=\"https://colab.research.google.com/github/Indra282002/Movie-Recommendation-System/blob/main/Movie_Recommender_System.ipynb\" target=\"_parent\"><img src=\"https://colab.research.google.com/assets/colab-badge.svg\" alt=\"Open In Colab\"/></a>"
      ]
    },
    {
      "cell_type": "markdown",
      "source": [
        "# **Data Preprocessing**"
      ],
      "metadata": {
        "id": "awPjK5lgjB59"
      }
    },
    {
      "cell_type": "code",
      "source": [
        "# Importing necessary libraries\n",
        "import numpy as np\n",
        "import pandas as pd"
      ],
      "metadata": {
        "id": "nveNqO6pjRY3"
      },
      "execution_count": 7,
      "outputs": []
    },
    {
      "cell_type": "code",
      "execution_count": 8,
      "metadata": {
        "id": "WPTMeiCWjK_y"
      },
      "outputs": [],
      "source": [
        "# Reading the datasets\n",
        "movies = pd.read_csv('tmdb_5000_movies.csv')\n",
        "credits = pd.read_csv('tmdb_5000_credits.csv')"
      ]
    },
    {
      "cell_type": "code",
      "source": [
        "# Merging the datasets on the common column 'title'\n",
        "movies = movies.merge(credits,on='title')"
      ],
      "metadata": {
        "id": "rBJodY0emhYN"
      },
      "execution_count": 9,
      "outputs": []
    },
    {
      "cell_type": "code",
      "source": [
        "# Selecting only the required columns for analysis\n",
        "movies = movies[['movie_id','title','overview','genres','keywords','cast','crew']]"
      ],
      "metadata": {
        "collapsed": true,
        "id": "Ghf6QIb7ldvp"
      },
      "execution_count": 10,
      "outputs": []
    },
    {
      "cell_type": "code",
      "source": [
        "# Dropping rows with missing values\n",
        "movies.dropna(inplace = True)"
      ],
      "metadata": {
        "id": "e8tHe_EC3BL6"
      },
      "execution_count": 11,
      "outputs": []
    },
    {
      "cell_type": "code",
      "source": [
        "# Checking for null values\n",
        "movies.isnull().sum()"
      ],
      "metadata": {
        "collapsed": true,
        "id": "rNj_TvUD4Gil",
        "colab": {
          "base_uri": "https://localhost:8080/",
          "height": 303
        },
        "outputId": "9686592c-fff4-4b78-9d3e-86bf6514e25a"
      },
      "execution_count": 12,
      "outputs": [
        {
          "output_type": "execute_result",
          "data": {
            "text/plain": [
              "movie_id    0\n",
              "title       0\n",
              "overview    0\n",
              "genres      0\n",
              "keywords    0\n",
              "cast        0\n",
              "crew        0\n",
              "dtype: int64"
            ],
            "text/html": [
              "<div>\n",
              "<style scoped>\n",
              "    .dataframe tbody tr th:only-of-type {\n",
              "        vertical-align: middle;\n",
              "    }\n",
              "\n",
              "    .dataframe tbody tr th {\n",
              "        vertical-align: top;\n",
              "    }\n",
              "\n",
              "    .dataframe thead th {\n",
              "        text-align: right;\n",
              "    }\n",
              "</style>\n",
              "<table border=\"1\" class=\"dataframe\">\n",
              "  <thead>\n",
              "    <tr style=\"text-align: right;\">\n",
              "      <th></th>\n",
              "      <th>0</th>\n",
              "    </tr>\n",
              "  </thead>\n",
              "  <tbody>\n",
              "    <tr>\n",
              "      <th>movie_id</th>\n",
              "      <td>0</td>\n",
              "    </tr>\n",
              "    <tr>\n",
              "      <th>title</th>\n",
              "      <td>0</td>\n",
              "    </tr>\n",
              "    <tr>\n",
              "      <th>overview</th>\n",
              "      <td>0</td>\n",
              "    </tr>\n",
              "    <tr>\n",
              "      <th>genres</th>\n",
              "      <td>0</td>\n",
              "    </tr>\n",
              "    <tr>\n",
              "      <th>keywords</th>\n",
              "      <td>0</td>\n",
              "    </tr>\n",
              "    <tr>\n",
              "      <th>cast</th>\n",
              "      <td>0</td>\n",
              "    </tr>\n",
              "    <tr>\n",
              "      <th>crew</th>\n",
              "      <td>0</td>\n",
              "    </tr>\n",
              "  </tbody>\n",
              "</table>\n",
              "</div><br><label><b>dtype:</b> int64</label>"
            ]
          },
          "metadata": {},
          "execution_count": 12
        }
      ]
    },
    {
      "cell_type": "code",
      "source": [
        "# Checking for duplicate rows\n",
        "movies.duplicated().sum()"
      ],
      "metadata": {
        "id": "gP5AjZDt41fC",
        "colab": {
          "base_uri": "https://localhost:8080/"
        },
        "outputId": "062ba022-5ce2-44e4-db0a-b6e789d92d97"
      },
      "execution_count": 13,
      "outputs": [
        {
          "output_type": "execute_result",
          "data": {
            "text/plain": [
              "0"
            ]
          },
          "metadata": {},
          "execution_count": 13
        }
      ]
    },
    {
      "cell_type": "code",
      "source": [
        "# Importing the abstract syntax tree module to safely evaluate string expressions\n",
        "import ast\n",
        "\n",
        "# Function to extract genres and keywords\n",
        "def fetch_genre_keywords(obj):\n",
        "  List = []\n",
        "  for i in ast.literal_eval(obj):\n",
        "    List.append(i['name'])\n",
        "  return List;"
      ],
      "metadata": {
        "id": "acV0tGEPiUix"
      },
      "execution_count": 14,
      "outputs": []
    },
    {
      "cell_type": "code",
      "source": [
        "# Applying the function to extract genres and keywords\n",
        "movies['genres'] = movies['genres'].apply(fetch_genre_keywords)\n",
        "movies['keywords'] = movies['keywords'].apply(fetch_genre_keywords)"
      ],
      "metadata": {
        "id": "UYhuv6bFl0O7",
        "collapsed": true
      },
      "execution_count": 15,
      "outputs": []
    },
    {
      "cell_type": "code",
      "source": [
        "# Function to extract the top 3 cast members\n",
        "def fetch_cast(obj):\n",
        "  List = []\n",
        "  for i in ast.literal_eval(obj):\n",
        "    if len(List) < 3:\n",
        "      List.append(i['name'])\n",
        "  return List;"
      ],
      "metadata": {
        "id": "HSn5dev1PJww",
        "collapsed": true
      },
      "execution_count": 16,
      "outputs": []
    },
    {
      "cell_type": "code",
      "source": [
        "# Applying the function to extract cast members\n",
        "movies['cast'] = movies['cast'].apply(fetch_cast)"
      ],
      "metadata": {
        "id": "sNMZ9Obhd3R7"
      },
      "execution_count": 17,
      "outputs": []
    },
    {
      "cell_type": "code",
      "source": [
        "# Function to extract the director's name\n",
        "def fetch_director(obj):\n",
        "  List=[]\n",
        "  for i in ast.literal_eval(obj):\n",
        "    if i['job'] == 'Director':\n",
        "      List.append(i['name'])\n",
        "  return List;"
      ],
      "metadata": {
        "id": "_GS8xj6hed7l"
      },
      "execution_count": 18,
      "outputs": []
    },
    {
      "cell_type": "code",
      "source": [
        "# Applying the function to extract the director\n",
        "movies['crew'] = movies['crew'].apply(fetch_director)"
      ],
      "metadata": {
        "id": "WWcMUUETgmuF"
      },
      "execution_count": 19,
      "outputs": []
    },
    {
      "cell_type": "code",
      "source": [
        "# Splitting the overview text into individual words\n",
        "movies['overview'] = movies['overview'].apply(lambda x:x.split())"
      ],
      "metadata": {
        "id": "mVAqdONMiSv8"
      },
      "execution_count": 20,
      "outputs": []
    },
    {
      "cell_type": "code",
      "source": [
        "# Removing spaces within elements of genres, keywords, cast, and crew\n",
        "movies['genres'] = movies['genres'].apply(lambda x:[i.replace(\" \",\"\") for i in x])\n",
        "movies['keywords'] = movies['keywords'].apply(lambda x:[i.replace(\" \",\"\") for i in x])\n",
        "movies['cast'] = movies['cast'].apply(lambda x:[i.replace(\" \",\"\") for i in x])\n",
        "movies['crew'] = movies['crew'].apply(lambda x:[i.replace(\" \",\"\") for i in x])"
      ],
      "metadata": {
        "id": "hLKfXzFskvzg"
      },
      "execution_count": 21,
      "outputs": []
    },
    {
      "cell_type": "code",
      "source": [
        "# Creating a 'tags' column by combining all the relevant features\n",
        "movies['tags'] = movies['overview'] + movies['genres'] + movies['keywords'] + movies['cast'] + movies['crew']"
      ],
      "metadata": {
        "id": "k9v3zz-8nb7x"
      },
      "execution_count": 22,
      "outputs": []
    },
    {
      "cell_type": "code",
      "source": [
        "# Selecting only relevant columns for final analysis\n",
        "movies_df = movies[['movie_id','title','tags']]"
      ],
      "metadata": {
        "id": "pIKyfO6koDsT"
      },
      "execution_count": 23,
      "outputs": []
    },
    {
      "cell_type": "code",
      "source": [
        "# Converting the list of tags into a single string\n",
        "movies_df['tags'] = movies_df['tags'].apply(lambda x:\" \".join(x))"
      ],
      "metadata": {
        "id": "RHmiNKDFoSTn",
        "colab": {
          "base_uri": "https://localhost:8080/"
        },
        "outputId": "dc64f217-cd75-4e92-fabb-14f763fc8b8c"
      },
      "execution_count": 24,
      "outputs": [
        {
          "output_type": "stream",
          "name": "stderr",
          "text": [
            "<ipython-input-24-290ac256070d>:2: SettingWithCopyWarning: \n",
            "A value is trying to be set on a copy of a slice from a DataFrame.\n",
            "Try using .loc[row_indexer,col_indexer] = value instead\n",
            "\n",
            "See the caveats in the documentation: https://pandas.pydata.org/pandas-docs/stable/user_guide/indexing.html#returning-a-view-versus-a-copy\n",
            "  movies_df['tags'] = movies_df['tags'].apply(lambda x:\" \".join(x))\n"
          ]
        }
      ]
    },
    {
      "cell_type": "code",
      "source": [
        "# Converting all text to lowercase\n",
        "movies_df['tags'] = movies_df['tags'].apply(lambda x:x.lower())"
      ],
      "metadata": {
        "id": "7IKlqTPEos7Y",
        "colab": {
          "base_uri": "https://localhost:8080/"
        },
        "outputId": "1d570ab1-c6a4-42bf-a3dd-54b5253f4859"
      },
      "execution_count": 25,
      "outputs": [
        {
          "output_type": "stream",
          "name": "stderr",
          "text": [
            "<ipython-input-25-7fd1758b4767>:2: SettingWithCopyWarning: \n",
            "A value is trying to be set on a copy of a slice from a DataFrame.\n",
            "Try using .loc[row_indexer,col_indexer] = value instead\n",
            "\n",
            "See the caveats in the documentation: https://pandas.pydata.org/pandas-docs/stable/user_guide/indexing.html#returning-a-view-versus-a-copy\n",
            "  movies_df['tags'] = movies_df['tags'].apply(lambda x:x.lower())\n"
          ]
        }
      ]
    },
    {
      "cell_type": "markdown",
      "source": [
        "### **Stemming the text**"
      ],
      "metadata": {
        "id": "GYN5DN3dmP1Q"
      }
    },
    {
      "cell_type": "code",
      "source": [
        "# Importing Natural Language Toolkit library\n",
        "from nltk.stem.porter import PorterStemmer\n",
        "ps = PorterStemmer()"
      ],
      "metadata": {
        "id": "Tt27A4-dy7y_"
      },
      "execution_count": 26,
      "outputs": []
    },
    {
      "cell_type": "code",
      "source": [
        "# Function to apply stemming to the tags\n",
        "def stem(text):\n",
        "  List = []\n",
        "  for i in text.split():\n",
        "    List.append(ps.stem(i))\n",
        "  return \" \".join(List)"
      ],
      "metadata": {
        "id": "hDN0FoMS0Mlj"
      },
      "execution_count": 27,
      "outputs": []
    },
    {
      "cell_type": "code",
      "source": [
        "# Applying stemming\n",
        "movies_df['tags'] = movies_df['tags'].apply(stem)"
      ],
      "metadata": {
        "id": "tW1O2DAt1Yda",
        "colab": {
          "base_uri": "https://localhost:8080/"
        },
        "outputId": "a4bea271-8001-4f39-bcdd-81daa0f170d2"
      },
      "execution_count": 28,
      "outputs": [
        {
          "output_type": "stream",
          "name": "stderr",
          "text": [
            "<ipython-input-28-f6f35cc0395e>:2: SettingWithCopyWarning: \n",
            "A value is trying to be set on a copy of a slice from a DataFrame.\n",
            "Try using .loc[row_indexer,col_indexer] = value instead\n",
            "\n",
            "See the caveats in the documentation: https://pandas.pydata.org/pandas-docs/stable/user_guide/indexing.html#returning-a-view-versus-a-copy\n",
            "  movies_df['tags'] = movies_df['tags'].apply(stem)\n"
          ]
        }
      ]
    },
    {
      "cell_type": "markdown",
      "source": [
        "# **Text Vectorization**\n"
      ],
      "metadata": {
        "id": "CVk1uPfevj4g"
      }
    },
    {
      "cell_type": "code",
      "source": [
        "# Creating a count vectorizer with a maximum of 5000 features and English stopwords\n",
        "\n",
        "from sklearn.feature_extraction.text import CountVectorizer\n",
        "cv = CountVectorizer(max_features = 5000,stop_words = 'english')"
      ],
      "metadata": {
        "id": "RZg0ILjnvnT6"
      },
      "execution_count": 29,
      "outputs": []
    },
    {
      "cell_type": "code",
      "source": [
        "# Generating the feature vectors from the tags\n",
        "movies_vector = cv.fit_transform(movies_df['tags']).toarray()"
      ],
      "metadata": {
        "id": "A-Plw4H_xCwD"
      },
      "execution_count": 30,
      "outputs": []
    },
    {
      "cell_type": "code",
      "source": [
        "# Calculating cosine similarity\n",
        "from sklearn.metrics.pairwise import cosine_similarity\n",
        "similarity = cosine_similarity(movies_vector)"
      ],
      "metadata": {
        "id": "bHhveWFH4Pig"
      },
      "execution_count": 31,
      "outputs": []
    },
    {
      "cell_type": "markdown",
      "source": [
        "# **Movies Recommendation Function**"
      ],
      "metadata": {
        "id": "TjZZ9id1fvCI"
      }
    },
    {
      "cell_type": "code",
      "source": [
        "\"\"\"\n",
        "      Recommends movies similar to the input movie based on cosine similarity.\n",
        "\"\"\"\n",
        "def Movie_Recommendation(movie):\n",
        "  # Fetching the index of the given movie\n",
        "  movie_index = movies_df [movies_df['title'] == movie].index[0]\n",
        "  # Calculating similarity scores with all other movies\n",
        "  distances = similarity[movie_index]\n",
        "  # Sorting movies by similarity scores in descending order and fetching top 5\n",
        "  movies_list = sorted(list(enumerate(distances)),reverse = True,key = lambda x:x[1])[1:6]\n",
        "  # Printing recommended movie titles\n",
        "  for i in movies_list:\n",
        "    print(movies_df.iloc[i[0]].title)"
      ],
      "metadata": {
        "id": "w12zxMKcfzyx"
      },
      "execution_count": 34,
      "outputs": []
    },
    {
      "cell_type": "markdown",
      "source": [
        "### **Testing**"
      ],
      "metadata": {
        "id": "IUFZrWgdlFrK"
      }
    },
    {
      "cell_type": "code",
      "source": [
        "# Recommend movies similar to \"Avatar\"\n",
        "Movie_Recommendation('Superman')"
      ],
      "metadata": {
        "colab": {
          "base_uri": "https://localhost:8080/"
        },
        "id": "P-EiSaZ_rhn-",
        "outputId": "aeab7438-c1ed-4cb9-e243-eab464ec8f7e"
      },
      "execution_count": 35,
      "outputs": [
        {
          "output_type": "stream",
          "name": "stdout",
          "text": [
            "Superman Returns\n",
            "Superman II\n",
            "Iron Man 2\n",
            "Superman III\n",
            "Superman IV: The Quest for Peace\n"
          ]
        }
      ]
    }
  ]
}